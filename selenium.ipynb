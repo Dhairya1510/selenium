{
    "cells": [
        {
            "cell_type": "code",
            "execution_count": 52,
            "source": [
                "from selenium import webdriver\r\n",
                "from selenium.webdriver.common.keys import Keys\r\n",
                "from selenium.webdriver.common.by import By\r\n",
                "from selenium.webdriver.support.ui import WebDriverWait\r\n",
                "from selenium.webdriver.support import expected_conditions as EC\r\n",
                "import time\r\n",
                "import pandas as pd\r\n",
                "PATH = 'C:\\Program Files (x86)\\chromedriver.exe'\r\n",
                "driver = webdriver.Chrome(PATH)\r\n",
                "driver.get('https://internshala.com/internships/computer%20science-internship')\r\n",
                "closepop = driver.find_element_by_id('close_popup').click()\r\n",
                "# internships_frame = pd.DataFrame(columns=[\r\n",
                "#                                  'internship_position', 'company_name', 'skills_require', 'duration', 'stipend_₹'])\r\n"
            ],
            "outputs": [],
            "metadata": {}
        },
        {
            "cell_type": "code",
            "execution_count": 53,
            "source": [
                "\r\n",
                "totalpages = driver.find_element_by_id('total_pages').text\r\n",
                "print(totalpages)\r\n",
                "internships = driver.find_elements_by_class_name('company')\r\n",
                "print(len(internships))\r\n",
                "title = driver.find_elements_by_class_name('company')[2]\r\n",
                "a = title.find_element_by_tag_name(\"div\").click()\r\n"
            ],
            "outputs": [
                {
                    "output_type": "stream",
                    "name": "stdout",
                    "text": [
                        "65\n",
                        "40\n"
                    ]
                }
            ],
            "metadata": {}
        },
        {
            "cell_type": "code",
            "execution_count": 54,
            "source": [
                "templist = []\r\n",
                "languages = []\r\n"
            ],
            "outputs": [],
            "metadata": {}
        },
        {
            "cell_type": "code",
            "execution_count": 55,
            "source": [
                "job_name = driver.find_element_by_class_name('profile_on_detail_page').text\r\n",
                "company = driver.find_element_by_class_name('link_display_like_text').text\r\n",
                "skills = driver.find_elements_by_class_name('round_tabs')\r\n",
                "duration = (driver.find_elements_by_class_name('item_body')[1]).text\r\n",
                "stipend = driver.find_element_by_class_name('stipend').text\r\n",
                "\r\n",
                "\r\n",
                "for value in skills:\r\n",
                "    value = value.text\r\n",
                "    languages.append(value)\r\n",
                "\r\n",
                "\r\n",
                "# skills_data = {\"skills_require\": languages}\r\n",
                "\r\n",
                "# job_name_data = {\"internship_position\": job_text}\r\n",
                "# frame = pd.DataFrame(job_name_data, columns=[\"internship_position\"], index=[0])\r\n",
                "# print(job_text)\r\n",
                "# print(internships_frame)\r\n",
                "# duration = driver.find_elements_by_class_name('item_body')[1]\r\n",
                "# print(duration.text)\r\n",
                "# stipend = driver.find_element_by_class_name('stipend')\r\n",
                "# print(stipend.text)\r\n"
            ],
            "outputs": [],
            "metadata": {}
        },
        {
            "cell_type": "code",
            "execution_count": 56,
            "source": [
                "Table_dict = {'internship_position': job_name, 'company_name': company, 'skills_require': languages ,'duration' : duration, 'stipend_inr' : stipend}\r\n",
                "templist.append(Table_dict)\r\n",
                "df = pd.DataFrame(templist)\r\n",
                "\r\n",
                "df.to_csv('1st loop.csv')\r\n"
            ],
            "outputs": [],
            "metadata": {}
        },
        {
            "cell_type": "code",
            "execution_count": 57,
            "source": [
                "# company = driver.find_element_by_class_name('link_display_like_text').text\r\n",
                "# company = company.text\r\n",
                "# company_name_data = {\"company_name\": company}\r\n",
                "# frame = pd.DataFrame(company_name_data, columns=[\"company_name\"], index=[1])\r\n",
                "# print(company)\r\n",
                "\r\n"
            ],
            "outputs": [],
            "metadata": {}
        },
        {
            "cell_type": "code",
            "execution_count": 58,
            "source": [
                "\r\n",
                "for value in skills:\r\n",
                "    value = value.text\r\n",
                "    languages.append(value)\r\n",
                "skills_data = {\"skills_require\" : languages}\r\n",
                "\r\n"
            ],
            "outputs": [],
            "metadata": {}
        },
        {
            "cell_type": "code",
            "execution_count": 59,
            "source": [
                "internships_frame = internships_frame.append(frame, ignore_index=True)\r\n",
                "time.sleep(1)\r\n",
                "print(internships_frame)\r\n",
                "# internships_frame.to_csv('currency.csv', index=False)\r\n"
            ],
            "outputs": [
                {
                    "output_type": "stream",
                    "name": "stdout",
                    "text": [
                        "  internship_position company_name  \\\n",
                        "0                 NaN          NaN   \n",
                        "1                 NaN          NaN   \n",
                        "2                 NaN          NaN   \n",
                        "3                 NaN          NaN   \n",
                        "\n",
                        "                                      skills_require duration stipend_₹  \n",
                        "0  [Certificate, Letter of recommendation, Flexib...      NaN       NaN  \n",
                        "1  [English Proficiency (Spoken), English Profici...      NaN       NaN  \n",
                        "2  [English Proficiency (Spoken), English Profici...      NaN       NaN  \n",
                        "3  [English Proficiency (Spoken), English Profici...      NaN       NaN  \n"
                    ]
                }
            ],
            "metadata": {}
        },
        {
            "cell_type": "code",
            "execution_count": 60,
            "source": [
                "driver.back()\r\n",
                "next_page = driver.find_element_by_id('navigation-forward').click()\r\n"
            ],
            "outputs": [],
            "metadata": {}
        },
        {
            "cell_type": "code",
            "execution_count": 61,
            "source": [
                "# time.sleep(10)\r\n",
                "# driver.quit()\r\n"
            ],
            "outputs": [],
            "metadata": {}
        }
    ],
    "metadata": {
        "orig_nbformat": 4,
        "language_info": {
            "name": "python",
            "version": "3.8.5",
            "mimetype": "text/x-python",
            "codemirror_mode": {
                "name": "ipython",
                "version": 3
            },
            "pygments_lexer": "ipython3",
            "nbconvert_exporter": "python",
            "file_extension": ".py"
        },
        "kernelspec": {
            "name": "python3",
            "display_name": "Python 3.8.5 64-bit ('base': conda)"
        },
        "interpreter": {
            "hash": "b3ba2566441a7c06988d0923437866b63cedc61552a5af99d1f4fb67d367b25f"
        }
    },
    "nbformat": 4,
    "nbformat_minor": 2
}